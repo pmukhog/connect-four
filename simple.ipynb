{
 "cells": [
  {
   "cell_type": "code",
   "execution_count": 22,
   "id": "91743e24-5aff-4fb8-969d-9aff88c17c41",
   "metadata": {},
   "outputs": [],
   "source": [
    "import numpy as np\n",
    "\n",
    "ROWS = 6\n",
    "COLS = 7\n",
    "PLAYER = 1\n",
    "AI = 2\n",
    "\n",
    "def create_board():\n",
    "    return np.zeros((ROWS, COLS))\n",
    "\n",
    "def drop_piece(board, row, col, piece):\n",
    "    board[row][col] = piece\n",
    "\n",
    "def is_valid_location(board, col):\n",
    "    return board[ROWS-1][col] == 0\n",
    "\n",
    "def get_next_open_row(board, col):\n",
    "    for r in range(ROWS):\n",
    "        if board[r][col] == 0:\n",
    "            return r"
   ]
  },
  {
   "cell_type": "code",
   "execution_count": 23,
   "id": "c98134fc-654e-44f3-b603-6434bf41d5d6",
   "metadata": {},
   "outputs": [],
   "source": [
    "def winning_move(board, piece):\n",
    "    # Check horizontal locations\n",
    "    for c in range(COLS-3):\n",
    "        for r in range(ROWS):\n",
    "            if board[r][c] == piece and board[r][c+1] == piece and board[r][c+2] == piece and board[r][c+3] == piece:\n",
    "                return True\n",
    "\n",
    "    # Check vertical locations\n",
    "    for c in range(COLS):\n",
    "        for r in range(ROWS-3):\n",
    "            if board[r][c] == piece and board[r+1][c] == piece and board[r+2][c] == piece and board[r+3][c] == piece:\n",
    "                return True\n",
    "\n",
    "    # Check positively sloped diagonals\n",
    "    for c in range(COLS-3):\n",
    "        for r in range(ROWS-3):\n",
    "            if board[r][c] == piece and board[r+1][c+1] == piece and board[r+2][c+2] == piece and board[r+3][c+3] == piece:\n",
    "                return True\n",
    "\n",
    "    # Check negatively sloped diagonals\n",
    "    for c in range(COLS-3):\n",
    "        for r in range(3, ROWS):\n",
    "            if board[r][c] == piece and board[r-1][c+1] == piece and board[r-2][c+2] == piece and board[r-3][c+3] == piece:\n",
    "                return True\n",
    "\n",
    "    return False"
   ]
  },
  {
   "cell_type": "code",
   "execution_count": 24,
   "id": "c043f743-9969-4d07-a287-6ef1974897a6",
   "metadata": {},
   "outputs": [],
   "source": [
    "def evaluate_window(window, piece):\n",
    "    score = 0\n",
    "    opp_piece = PLAYER if piece == AI else AI\n",
    "\n",
    "    if window.count(piece) == 4:\n",
    "        score += 100\n",
    "    elif window.count(piece) == 3 and window.count(0) == 1:\n",
    "        score += 5\n",
    "    elif window.count(piece) == 2 and window.count(0) == 2:\n",
    "        score += 2\n",
    "\n",
    "    if window.count(opp_piece) == 3 and window.count(0) == 1:\n",
    "        score -= 4\n",
    "\n",
    "    return score"
   ]
  },
  {
   "cell_type": "code",
   "execution_count": 25,
   "id": "c6ff9c41-22b8-48c5-a119-7413eff43dd8",
   "metadata": {},
   "outputs": [],
   "source": [
    "def score_position(board, piece):\n",
    "    score = 0\n",
    "\n",
    "    # Score center column\n",
    "    center_array = [int(i) for i in list(board[:, COLS//2])]\n",
    "    center_count = center_array.count(piece)\n",
    "    score += center_count * 3\n",
    "\n",
    "    # Score Horizontal\n",
    "    for r in range(ROWS):\n",
    "        row_array = [int(i) for i in list(board[r,:])]\n",
    "        for c in range(COLS-3):\n",
    "            window = row_array[c:c+4]\n",
    "            score += evaluate_window(window, piece)\n",
    "\n",
    "    # Score Vertical\n",
    "    for c in range(COLS):\n",
    "        col_array = [int(i) for i in list(board[:,c])]\n",
    "        for r in range(ROWS-3):\n",
    "            window = col_array[r:r+4]\n",
    "            score += evaluate_window(window, piece)\n",
    "\n",
    "    # Score positive sloped diagonal\n",
    "    for r in range(ROWS-3):\n",
    "        for c in range(COLS-3):\n",
    "            window = [board[r+i][c+i] for i in range(4)]\n",
    "            score += evaluate_window(window, piece)\n",
    "\n",
    "    # Score negative sloped diagonal\n",
    "    for r in range(ROWS-3):\n",
    "        for c in range(COLS-3):\n",
    "            window = [board[r+3-i][c+i] for i in range(4)]\n",
    "            score += evaluate_window(window, piece)\n",
    "\n",
    "    return score"
   ]
  },
  {
   "cell_type": "code",
   "execution_count": 26,
   "id": "09cec0e6-11f4-4381-b195-534ea8b53d03",
   "metadata": {},
   "outputs": [],
   "source": [
    "def is_terminal_node(board):\n",
    "    return winning_move(board, PLAYER) or winning_move(board, AI) or len(get_valid_locations(board)) == 0\n",
    "\n",
    "def get_valid_locations(board):\n",
    "    return [col for col in range(COLS) if is_valid_location(board, col)]"
   ]
  },
  {
   "cell_type": "code",
   "execution_count": 27,
   "id": "e9a085bd-05ab-4eef-b37b-15e70a2748e2",
   "metadata": {},
   "outputs": [],
   "source": [
    "def minimax(board, depth, alpha, beta, maximizing_player):\n",
    "    valid_locations = get_valid_locations(board)\n",
    "    is_terminal = is_terminal_node(board)\n",
    "    \n",
    "    if depth == 0 or is_terminal:\n",
    "        if is_terminal:\n",
    "            if winning_move(board, AI):\n",
    "                return (None, 100000000000000)\n",
    "            elif winning_move(board, PLAYER):\n",
    "                return (None, -10000000000000)\n",
    "            else:  # Game is over, no more valid moves\n",
    "                return (None, 0)\n",
    "        else:  # Depth is zero\n",
    "            return (None, score_position(board, AI))\n",
    "    \n",
    "    if maximizing_player:\n",
    "        value = -np.inf\n",
    "        column = np.random.choice(valid_locations)\n",
    "        for col in valid_locations:\n",
    "            row = get_next_open_row(board, col)\n",
    "            b_copy = board.copy()\n",
    "            drop_piece(b_copy, row, col, AI)\n",
    "            new_score = minimax(b_copy, depth-1, alpha, beta, False)[1]\n",
    "            if new_score > value:\n",
    "                value = new_score\n",
    "                column = col\n",
    "            alpha = max(alpha, value)\n",
    "            if alpha >= beta:\n",
    "                break\n",
    "        return column, value\n",
    "\n",
    "    else:  # Minimizing player\n",
    "        value = np.inf\n",
    "        column = np.random.choice(valid_locations)\n",
    "        for col in valid_locations:\n",
    "            row = get_next_open_row(board, col)\n",
    "            b_copy = board.copy()\n",
    "            drop_piece(b_copy, row, col, PLAYER)\n",
    "            new_score = minimax(b_copy, depth-1, alpha, beta, True)[1]\n",
    "            if new_score < value:\n",
    "                value = new_score\n",
    "                column = col\n",
    "            beta = min(beta, value)\n",
    "            if alpha >= beta:\n",
    "                break\n",
    "        return column, value"
   ]
  },
  {
   "cell_type": "code",
   "execution_count": 28,
   "id": "62bc14cf-d6ea-4c82-b392-505014c65b5a",
   "metadata": {},
   "outputs": [],
   "source": [
    "def get_best_move(board, piece):\n",
    "    valid_locations = get_valid_locations(board)\n",
    "    best_score = -10000\n",
    "    best_col = np.random.choice(valid_locations)\n",
    "    \n",
    "    for col in valid_locations:\n",
    "        row = get_next_open_row(board, col)\n",
    "        temp_board = board.copy()\n",
    "        drop_piece(temp_board, row, col, piece)\n",
    "        score = score_position(temp_board, piece)\n",
    "        if score > best_score:\n",
    "            best_score = score\n",
    "            best_col = col\n",
    "    \n",
    "    return best_col"
   ]
  },
  {
   "cell_type": "code",
   "execution_count": 29,
   "id": "9b6118c7-0a1a-473d-b968-ca8322e518b4",
   "metadata": {},
   "outputs": [],
   "source": [
    "def play_game():\n",
    "    board = create_board()\n",
    "    game_over = False\n",
    "    turn = 0\n",
    "\n",
    "    while not game_over:\n",
    "        if turn == 0:\n",
    "            col = int(input(\"Player 1 make your selection (0-6): \"))\n",
    "            if is_valid_location(board, col):\n",
    "                row = get_next_open_row(board, col)\n",
    "                drop_piece(board, row, col, PLAYER)\n",
    "\n",
    "                if winning_move(board, PLAYER):\n",
    "                    print(\"Player 1 wins!\")\n",
    "                    game_over = True\n",
    "\n",
    "        else:\n",
    "            col, minimax_score = minimax(board, 5, -np.inf, np.inf, True)\n",
    "            if is_valid_location(board, col):\n",
    "                row = get_next_open_row(board, col)\n",
    "                drop_piece(board, row, col, AI)\n",
    "\n",
    "                if winning_move(board, AI):\n",
    "                    print(\"Player 2 (AI) wins!\")\n",
    "                    game_over = True\n",
    "\n",
    "        print(np.flip(board, 0))\n",
    "        turn += 1\n",
    "        turn = turn % 2\n",
    "\n",
    "        if len(get_valid_locations(board)) == 0:\n",
    "            print(\"It's a tie!\")\n",
    "            game_over = True"
   ]
  },
  {
   "cell_type": "code",
   "execution_count": 30,
   "id": "461bf562-ecae-4697-968a-64b1bd6cea13",
   "metadata": {},
   "outputs": [
    {
     "name": "stdin",
     "output_type": "stream",
     "text": [
      "Player 1 make your selection (0-6):  3\n"
     ]
    },
    {
     "name": "stdout",
     "output_type": "stream",
     "text": [
      "[[0. 0. 0. 0. 0. 0. 0.]\n",
      " [0. 0. 0. 0. 0. 0. 0.]\n",
      " [0. 0. 0. 0. 0. 0. 0.]\n",
      " [0. 0. 0. 0. 0. 0. 0.]\n",
      " [0. 0. 0. 0. 0. 0. 0.]\n",
      " [0. 0. 0. 1. 0. 0. 0.]]\n",
      "[[0. 0. 0. 0. 0. 0. 0.]\n",
      " [0. 0. 0. 0. 0. 0. 0.]\n",
      " [0. 0. 0. 0. 0. 0. 0.]\n",
      " [0. 0. 0. 0. 0. 0. 0.]\n",
      " [0. 0. 0. 2. 0. 0. 0.]\n",
      " [0. 0. 0. 1. 0. 0. 0.]]\n"
     ]
    },
    {
     "name": "stdin",
     "output_type": "stream",
     "text": [
      "Player 1 make your selection (0-6):  5\n"
     ]
    },
    {
     "name": "stdout",
     "output_type": "stream",
     "text": [
      "[[0. 0. 0. 0. 0. 0. 0.]\n",
      " [0. 0. 0. 0. 0. 0. 0.]\n",
      " [0. 0. 0. 0. 0. 0. 0.]\n",
      " [0. 0. 0. 0. 0. 0. 0.]\n",
      " [0. 0. 0. 2. 0. 0. 0.]\n",
      " [0. 0. 0. 1. 0. 1. 0.]]\n",
      "[[0. 0. 0. 0. 0. 0. 0.]\n",
      " [0. 0. 0. 0. 0. 0. 0.]\n",
      " [0. 0. 0. 0. 0. 0. 0.]\n",
      " [0. 0. 0. 0. 0. 0. 0.]\n",
      " [0. 0. 0. 2. 0. 0. 0.]\n",
      " [0. 0. 0. 1. 2. 1. 0.]]\n"
     ]
    },
    {
     "name": "stdin",
     "output_type": "stream",
     "text": [
      "Player 1 make your selection (0-6):  5\n"
     ]
    },
    {
     "name": "stdout",
     "output_type": "stream",
     "text": [
      "[[0. 0. 0. 0. 0. 0. 0.]\n",
      " [0. 0. 0. 0. 0. 0. 0.]\n",
      " [0. 0. 0. 0. 0. 0. 0.]\n",
      " [0. 0. 0. 0. 0. 0. 0.]\n",
      " [0. 0. 0. 2. 0. 1. 0.]\n",
      " [0. 0. 0. 1. 2. 1. 0.]]\n",
      "[[0. 0. 0. 0. 0. 0. 0.]\n",
      " [0. 0. 0. 0. 0. 0. 0.]\n",
      " [0. 0. 0. 0. 0. 0. 0.]\n",
      " [0. 0. 0. 2. 0. 0. 0.]\n",
      " [0. 0. 0. 2. 0. 1. 0.]\n",
      " [0. 0. 0. 1. 2. 1. 0.]]\n"
     ]
    },
    {
     "name": "stdin",
     "output_type": "stream",
     "text": [
      "Player 1 make your selection (0-6):  5\n"
     ]
    },
    {
     "name": "stdout",
     "output_type": "stream",
     "text": [
      "[[0. 0. 0. 0. 0. 0. 0.]\n",
      " [0. 0. 0. 0. 0. 0. 0.]\n",
      " [0. 0. 0. 0. 0. 0. 0.]\n",
      " [0. 0. 0. 2. 0. 1. 0.]\n",
      " [0. 0. 0. 2. 0. 1. 0.]\n",
      " [0. 0. 0. 1. 2. 1. 0.]]\n",
      "[[0. 0. 0. 0. 0. 0. 0.]\n",
      " [0. 0. 0. 0. 0. 0. 0.]\n",
      " [0. 0. 0. 0. 0. 2. 0.]\n",
      " [0. 0. 0. 2. 0. 1. 0.]\n",
      " [0. 0. 0. 2. 0. 1. 0.]\n",
      " [0. 0. 0. 1. 2. 1. 0.]]\n"
     ]
    },
    {
     "name": "stdin",
     "output_type": "stream",
     "text": [
      "Player 1 make your selection (0-6):  1\n"
     ]
    },
    {
     "name": "stdout",
     "output_type": "stream",
     "text": [
      "[[0. 0. 0. 0. 0. 0. 0.]\n",
      " [0. 0. 0. 0. 0. 0. 0.]\n",
      " [0. 0. 0. 0. 0. 2. 0.]\n",
      " [0. 0. 0. 2. 0. 1. 0.]\n",
      " [0. 0. 0. 2. 0. 1. 0.]\n",
      " [0. 1. 0. 1. 2. 1. 0.]]\n",
      "[[0. 0. 0. 0. 0. 0. 0.]\n",
      " [0. 0. 0. 0. 0. 0. 0.]\n",
      " [0. 0. 0. 2. 0. 2. 0.]\n",
      " [0. 0. 0. 2. 0. 1. 0.]\n",
      " [0. 0. 0. 2. 0. 1. 0.]\n",
      " [0. 1. 0. 1. 2. 1. 0.]]\n"
     ]
    },
    {
     "name": "stdin",
     "output_type": "stream",
     "text": [
      "Player 1 make your selection (0-6):  1\n"
     ]
    },
    {
     "name": "stdout",
     "output_type": "stream",
     "text": [
      "[[0. 0. 0. 0. 0. 0. 0.]\n",
      " [0. 0. 0. 0. 0. 0. 0.]\n",
      " [0. 0. 0. 2. 0. 2. 0.]\n",
      " [0. 0. 0. 2. 0. 1. 0.]\n",
      " [0. 1. 0. 2. 0. 1. 0.]\n",
      " [0. 1. 0. 1. 2. 1. 0.]]\n",
      "Player 2 (AI) wins!\n",
      "[[0. 0. 0. 0. 0. 0. 0.]\n",
      " [0. 0. 0. 2. 0. 0. 0.]\n",
      " [0. 0. 0. 2. 0. 2. 0.]\n",
      " [0. 0. 0. 2. 0. 1. 0.]\n",
      " [0. 1. 0. 2. 0. 1. 0.]\n",
      " [0. 1. 0. 1. 2. 1. 0.]]\n"
     ]
    }
   ],
   "source": [
    "play_game()"
   ]
  },
  {
   "cell_type": "code",
   "execution_count": null,
   "id": "837359e2-08b6-4c4b-9484-758ba28fd1d5",
   "metadata": {},
   "outputs": [],
   "source": []
  }
 ],
 "metadata": {
  "kernelspec": {
   "display_name": "Python 3 (ipykernel)",
   "language": "python",
   "name": "python3"
  },
  "language_info": {
   "codemirror_mode": {
    "name": "ipython",
    "version": 3
   },
   "file_extension": ".py",
   "mimetype": "text/x-python",
   "name": "python",
   "nbconvert_exporter": "python",
   "pygments_lexer": "ipython3",
   "version": "3.9.17"
  }
 },
 "nbformat": 4,
 "nbformat_minor": 5
}
